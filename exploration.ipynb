{
  "cells": [
    {
      "cell_type": "markdown",
      "metadata": {
        "id": "view-in-github",
        "colab_type": "text"
      },
      "source": [
        "<a href=\"https://colab.research.google.com/github/helenatong/oc_p5_Segmentez_des_clients_d_un_site_e-commerce/blob/main/exploration.ipynb\" target=\"_parent\"><img src=\"https://colab.research.google.com/assets/colab-badge.svg\" alt=\"Open In Colab\"/></a>"
      ]
    },
    {
      "cell_type": "markdown",
      "metadata": {
        "id": "M_yoc462ofrY"
      },
      "source": [
        "# **Introduction**\n",
        "\n",
        "---"
      ]
    },
    {
      "cell_type": "markdown",
      "metadata": {
        "id": "DT0Vbw38R3HI"
      },
      "source": [
        "## **Prérequis**\n",
        "- Télécharger [ce fichier TO MOD](https://drive.google.com/file/d/1NWEnq2dD_kOGe-tnFS2w1-C7apQ1ejWx/view?usp=drive_link) dans Google Drive\n",
        "- Modifier les chemins du fichier (extract_path) dans le code\n",
        "\n",
        "\n",
        "---\n",
        "\n",
        " ## **Contexte et description du notebook**\n",
        "\n",
        "---\n",
        "\n",
        "## **Sommaire**\n",
        "\n",
        "### **I. Installation et mise en place de l'environnement de travail**\n",
        "\n",
        "### **II. Définitions des fonctions et des variables globales**\n",
        "\n",
        "### **III. Analyse exploratoire**"
      ]
    },
    {
      "cell_type": "markdown",
      "metadata": {
        "id": "XnuEOgORoSyi"
      },
      "source": [
        "# **I. Installation et mise en place de l'environnement de travail**"
      ]
    },
    {
      "cell_type": "code",
      "execution_count": 1,
      "metadata": {
        "id": "dawXLR8k49lH"
      },
      "outputs": [],
      "source": [
        "# importation des librairies\n",
        "import numpy as np\n",
        "import pandas as pd\n",
        "import sqlite3\n",
        "\n",
        "import zipfile\n",
        "import os\n",
        "\n",
        "import re\n",
        "\n",
        "import sys\n",
        "\n",
        "import missingno as msno\n",
        "import matplotlib as mpl\n",
        "import matplotlib.pyplot as plt\n",
        "import seaborn as sns\n",
        "\n",
        "from sklearn.impute import KNNImputer\n",
        "\n",
        "import datetime"
      ]
    },
    {
      "cell_type": "code",
      "execution_count": 2,
      "metadata": {
        "id": "iCfGUiXL5cEc",
        "colab": {
          "base_uri": "https://localhost:8080/"
        },
        "outputId": "55ca8b5a-f1d4-4fc1-d625-a14f06740f83"
      },
      "outputs": [
        {
          "output_type": "stream",
          "name": "stdout",
          "text": [
            "Version des librairies :\n",
            "Python        : 3.10.12 (main, Nov 20 2023, 15:14:05) [GCC 11.4.0]\n",
            "NumPy         : 1.25.2\n",
            "Pandas        : 2.0.3\n",
            "Matplotlib    : 3.7.1\n",
            "Seaborn       : 0.13.1\n",
            "Run date      : 2024-06-15T06:20:48.719818\n"
          ]
        }
      ],
      "source": [
        "# informations sur l'environnement virtuel\n",
        "print('Version des librairies :')\n",
        "print('Python        : ' + sys.version)\n",
        "print('NumPy         : ' + np.version.full_version)\n",
        "print('Pandas        : ' + pd.__version__)\n",
        "print('Matplotlib    : ' + mpl.__version__)\n",
        "print('Seaborn       : ' + sns.__version__)\n",
        "\n",
        "now  = datetime.datetime.now().isoformat()\n",
        "print('Run date      : ' + now)"
      ]
    },
    {
      "cell_type": "code",
      "execution_count": 3,
      "metadata": {
        "id": "3Uogl562MBpU"
      },
      "outputs": [],
      "source": [
        "# configurations de l'affichages des donnees\n",
        "# pd.set_option('display.max_columns', None)"
      ]
    },
    {
      "cell_type": "code",
      "execution_count": 4,
      "metadata": {
        "id": "A7jM53Y09R3J",
        "colab": {
          "base_uri": "https://localhost:8080/"
        },
        "outputId": "9aca5da0-fd78-4a9d-f722-11acf208d9f9"
      },
      "outputs": [
        {
          "output_type": "stream",
          "name": "stdout",
          "text": [
            "Mounted at /content/drive\n"
          ]
        }
      ],
      "source": [
        "# connexion au drive\n",
        "from google.colab import drive\n",
        "drive.mount('/content/drive')"
      ]
    },
    {
      "cell_type": "code",
      "execution_count": 6,
      "metadata": {
        "id": "1CZaqh-c8fgE",
        "colab": {
          "base_uri": "https://localhost:8080/"
        },
        "outputId": "a384074a-5a02-4609-bb20-3271e63ac4cf"
      },
      "outputs": [
        {
          "output_type": "stream",
          "name": "stdout",
          "text": [
            "Table: customers\n",
            "Table: geoloc\n",
            "Table: order_items\n",
            "Table: order_pymts\n",
            "Table: order_reviews\n",
            "Table: orders\n",
            "Table: products\n",
            "Table: sellers\n",
            "Table: translation\n"
          ]
        }
      ],
      "source": [
        "# connecter la base de données\n",
        "conn = sqlite3.connect('/content/drive/MyDrive/openclassrooms/project_list/project_5/data/olist.db')\n",
        "\n",
        "tables = conn.execute(\"SELECT name FROM sqlite_master WHERE type='table';\").fetchall()\n",
        "table_names = [table[0] for table in tables]\n",
        "\n",
        "dfs = {}\n",
        "\n",
        "for table_name in table_names:\n",
        "    cursor = conn.execute(f\"SELECT * FROM {table_name};\")\n",
        "    rows = cursor.fetchall()\n",
        "    column_names = [description[0] for description in cursor.description]\n",
        "    dfs[table_name] = pd.DataFrame(rows, columns=column_names).set_index('index')\n",
        "\n",
        "    conn.commit()\n",
        "\n",
        "for table_name, df in dfs.items():\n",
        "  print(f\"Table: {table_name}\")"
      ]
    },
    {
      "cell_type": "code",
      "source": [
        "# récupérer les dataframes\n",
        "for table_name in dfs.keys():\n",
        "  locals()[f'df_{table_name}'] = dfs.get(table_name)\n",
        "\n",
        "# vérifier l'importation\n",
        "for table_name in dfs.keys():\n",
        "  df = locals()[f'df_{table_name}']\n",
        "  print(table_name, '\\n', df.head(2), end='\\n\\n\\n')"
      ],
      "metadata": {
        "colab": {
          "base_uri": "https://localhost:8080/"
        },
        "id": "0yHVPGpdp0t8",
        "outputId": "349ff075-e9b8-4ed9-8095-5b19de08227c"
      },
      "execution_count": 27,
      "outputs": [
        {
          "output_type": "stream",
          "name": "stdout",
          "text": [
            "customers \n",
            "                             customer_id                customer_unique_id  \\\n",
            "index                                                                       \n",
            "0      06b8999e2fba1a1fbc88172c00ba8bc7  861eff4711a542e4b93843c6dd7febb0   \n",
            "1      18955e83d337fd6b2def6b18a428ac77  290c77bc529b7ac935b93aa66c333dc3   \n",
            "\n",
            "       customer_zip_code_prefix          customer_city customer_state  \n",
            "index                                                                  \n",
            "0                         14409                 franca             SP  \n",
            "1                          9790  sao bernardo do campo             SP  \n",
            "\n",
            "\n",
            "geoloc \n",
            "        geolocation_zip_code_prefix  geolocation_lat  geolocation_lng  \\\n",
            "index                                                                  \n",
            "0                             1037       -23.545621       -46.639292   \n",
            "1                             1046       -23.546081       -46.644820   \n",
            "\n",
            "      geolocation_city geolocation_state  \n",
            "index                                     \n",
            "0            sao paulo                SP  \n",
            "1            sao paulo                SP  \n",
            "\n",
            "\n",
            "order_items \n",
            "                                order_id  order_item_id  \\\n",
            "index                                                    \n",
            "0      00010242fe8c5a6d1ba2dd792cb16214              1   \n",
            "1      00018f77f2f0320c557190d7a144bdd3              1   \n",
            "\n",
            "                             product_id                         seller_id  \\\n",
            "index                                                                       \n",
            "0      4244733e06e7ecb4970a6e2683c13e61  48436dade18ac8b2bce089ec2a041202   \n",
            "1      e5f2d52b802189ee658865ca93d83a8f  dd7ddc04e1b6c2c614352b383efe2d36   \n",
            "\n",
            "       shipping_limit_date  price  freight_value  \n",
            "index                                             \n",
            "0      2017-09-19 09:45:35   58.9          13.29  \n",
            "1      2017-05-03 11:05:13  239.9          19.93  \n",
            "\n",
            "\n",
            "order_pymts \n",
            "                                order_id  payment_sequential payment_type  \\\n",
            "index                                                                      \n",
            "0      b81ef226f3fe1789b1e8b2acac839d17                   1  credit_card   \n",
            "1      a9810da82917af2d9aefd1278f1dcfa0                   1  credit_card   \n",
            "\n",
            "       payment_installments  payment_value  \n",
            "index                                       \n",
            "0                         8          99.33  \n",
            "1                         1          24.39  \n",
            "\n",
            "\n",
            "order_reviews \n",
            "                               review_id                          order_id  \\\n",
            "index                                                                       \n",
            "0      7bc2406110b926393aa56f80a40eba40  73fc7af87114b39712e6da79b0a377eb   \n",
            "1      80e641a11e56f04c1ad469d5645fdfde  a548910a1c6147796b98fdf73dbeba33   \n",
            "\n",
            "       review_score review_comment_title review_comment_message  \\\n",
            "index                                                             \n",
            "0                 4                 None                   None   \n",
            "1                 5                 None                   None   \n",
            "\n",
            "      review_creation_date review_answer_timestamp  \n",
            "index                                               \n",
            "0      2018-01-18 00:00:00     2018-01-18 21:46:59  \n",
            "1      2018-03-10 00:00:00     2018-03-11 03:05:13  \n",
            "\n",
            "\n",
            "orders \n",
            "                                order_id                       customer_id  \\\n",
            "index                                                                       \n",
            "0      e481f51cbdc54678b7cc49136f2d6af7  9ef432eb6251297304e76186b10a928d   \n",
            "1      53cdb2fc8bc7dce0b6741e2150273451  b0830fb4747a6c6d20dea0b8c802d7ef   \n",
            "\n",
            "      order_status order_purchase_timestamp    order_approved_at  \\\n",
            "index                                                              \n",
            "0        delivered      2017-10-02 10:56:33  2017-10-02 11:07:15   \n",
            "1        delivered      2018-07-24 20:41:37  2018-07-26 03:24:27   \n",
            "\n",
            "      order_delivered_carrier_date order_delivered_customer_date  \\\n",
            "index                                                              \n",
            "0              2017-10-04 19:55:00           2017-10-10 21:25:13   \n",
            "1              2018-07-26 14:31:00           2018-08-07 15:27:45   \n",
            "\n",
            "      order_estimated_delivery_date  \n",
            "index                                \n",
            "0               2017-10-18 00:00:00  \n",
            "1               2018-08-13 00:00:00  \n",
            "\n",
            "\n",
            "products \n",
            "                              product_id product_category_name  \\\n",
            "index                                                           \n",
            "0      1e9e8ef04dbcff4541ed26657ea517e5            perfumaria   \n",
            "1      3aa071139cb16b67ca9e5dea641aaa2f                 artes   \n",
            "\n",
            "       product_name_lenght  product_description_lenght  product_photos_qty  \\\n",
            "index                                                                        \n",
            "0                     40.0                       287.0                 1.0   \n",
            "1                     44.0                       276.0                 1.0   \n",
            "\n",
            "       product_weight_g  product_length_cm  product_height_cm  \\\n",
            "index                                                           \n",
            "0                 225.0               16.0               10.0   \n",
            "1                1000.0               30.0               18.0   \n",
            "\n",
            "       product_width_cm  \n",
            "index                    \n",
            "0                  14.0  \n",
            "1                  20.0  \n",
            "\n",
            "\n",
            "sellers \n",
            "                               seller_id  seller_zip_code_prefix seller_city  \\\n",
            "index                                                                         \n",
            "0      3442f8959a84dea7ee197c632cb2df15                   13023    campinas   \n",
            "1      d1b65fc7debc3361ea86b5f14c68d2e2                   13844  mogi guacu   \n",
            "\n",
            "      seller_state  \n",
            "index               \n",
            "0               SP  \n",
            "1               SP  \n",
            "\n",
            "\n",
            "translation \n",
            "         product_category_name product_category_name_english\n",
            "index                                                      \n",
            "0                beleza_saude                 health_beauty\n",
            "1      informatica_acessorios         computers_accessories\n",
            "\n",
            "\n"
          ]
        }
      ]
    },
    {
      "cell_type": "code",
      "source": [],
      "metadata": {
        "id": "_36MGtouk77I"
      },
      "execution_count": 27,
      "outputs": []
    },
    {
      "cell_type": "code",
      "source": [],
      "metadata": {
        "id": "_otFOukGnHe8"
      },
      "execution_count": 27,
      "outputs": []
    },
    {
      "cell_type": "markdown",
      "metadata": {
        "id": "aWDdfIwH1qmZ"
      },
      "source": [
        "# **II. Définitions des fonctions et des variables globales**\n"
      ]
    },
    {
      "cell_type": "code",
      "source": [],
      "metadata": {
        "id": "4kpNLem9jhdz"
      },
      "execution_count": null,
      "outputs": []
    }
  ],
  "metadata": {
    "colab": {
      "provenance": [],
      "include_colab_link": true
    },
    "kernelspec": {
      "display_name": "Python 3",
      "name": "python3"
    },
    "language_info": {
      "name": "python"
    }
  },
  "nbformat": 4,
  "nbformat_minor": 0
}